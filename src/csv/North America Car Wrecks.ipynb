{
 "cells": [
  {
   "cell_type": "code",
   "execution_count": 1,
   "id": "2a342217",
   "metadata": {},
   "outputs": [],
   "source": [
    "import pandas as pd \n",
    "import geopandas as gpd\n",
    "import matplotlib.pyplot as plt\n",
    "import fiona"
   ]
  },
  {
   "cell_type": "code",
   "execution_count": 2,
   "id": "ddf8c4fb",
   "metadata": {},
   "outputs": [
    {
     "data": {
      "text/plain": [
       "{'AeronavFAA': 'r',\n",
       " 'ARCGEN': 'r',\n",
       " 'BNA': 'raw',\n",
       " 'DXF': 'raw',\n",
       " 'CSV': 'raw',\n",
       " 'OpenFileGDB': 'r',\n",
       " 'ESRIJSON': 'r',\n",
       " 'ESRI Shapefile': 'raw',\n",
       " 'GeoJSON': 'rw',\n",
       " 'GeoJSONSeq': 'rw',\n",
       " 'GPKG': 'rw',\n",
       " 'GML': 'raw',\n",
       " 'GPX': 'raw',\n",
       " 'GPSTrackMaker': 'raw',\n",
       " 'Idrisi': 'r',\n",
       " 'MapInfo File': 'raw',\n",
       " 'DGN': 'raw',\n",
       " 'PCIDSK': 'r',\n",
       " 'S57': 'r',\n",
       " 'SEGY': 'r',\n",
       " 'SUA': 'r',\n",
       " 'TopoJSON': 'r'}"
      ]
     },
     "execution_count": 2,
     "metadata": {},
     "output_type": "execute_result"
    }
   ],
   "source": [
    "fiona.supported_drivers"
   ]
  },
  {
   "cell_type": "code",
   "execution_count": 3,
   "id": "06c10361",
   "metadata": {},
   "outputs": [],
   "source": [
    "wrecks_df = gpd.read_file('Hazardous_driving_areas.csv')"
   ]
  },
  {
   "cell_type": "code",
   "execution_count": 4,
   "id": "448eb622",
   "metadata": {},
   "outputs": [
    {
     "data": {
      "text/html": [
       "<div>\n",
       "<style scoped>\n",
       "    .dataframe tbody tr th:only-of-type {\n",
       "        vertical-align: middle;\n",
       "    }\n",
       "\n",
       "    .dataframe tbody tr th {\n",
       "        vertical-align: top;\n",
       "    }\n",
       "\n",
       "    .dataframe thead th {\n",
       "        text-align: right;\n",
       "    }\n",
       "</style>\n",
       "<table border=\"1\" class=\"dataframe\">\n",
       "  <thead>\n",
       "    <tr style=\"text-align: right;\">\n",
       "      <th></th>\n",
       "      <th>Geohash</th>\n",
       "      <th>GeohashBounds</th>\n",
       "      <th>Latitude_SW</th>\n",
       "      <th>Longitude_SW</th>\n",
       "      <th>Latitude_NE</th>\n",
       "      <th>Longitude_NE</th>\n",
       "      <th>Location</th>\n",
       "      <th>Latitude</th>\n",
       "      <th>Longitude</th>\n",
       "      <th>City</th>\n",
       "      <th>County</th>\n",
       "      <th>State</th>\n",
       "      <th>Country</th>\n",
       "      <th>ISO_3166_2</th>\n",
       "      <th>SeverityScore</th>\n",
       "      <th>IncidentsTotal</th>\n",
       "      <th>UpdateDate</th>\n",
       "      <th>Version</th>\n",
       "      <th>geometry</th>\n",
       "    </tr>\n",
       "  </thead>\n",
       "  <tbody>\n",
       "    <tr>\n",
       "      <th>0</th>\n",
       "      <td>c28qvs9</td>\n",
       "      <td>POLYGON((-123.155364990234 49.0237426757812, -...</td>\n",
       "      <td>49.024</td>\n",
       "      <td>-123.155</td>\n",
       "      <td>49.025</td>\n",
       "      <td>-123.154</td>\n",
       "      <td>POINT(-123.15458 49.02429)</td>\n",
       "      <td>49.024</td>\n",
       "      <td>-123.155</td>\n",
       "      <td></td>\n",
       "      <td></td>\n",
       "      <td></td>\n",
       "      <td></td>\n",
       "      <td></td>\n",
       "      <td>0.009</td>\n",
       "      <td>3</td>\n",
       "      <td>2020-10-02</td>\n",
       "      <td>5.1</td>\n",
       "      <td>None</td>\n",
       "    </tr>\n",
       "    <tr>\n",
       "      <th>1</th>\n",
       "      <td>d9uhxu6</td>\n",
       "      <td>POLYGON((-61.5316772460938 10.6581115722656, -...</td>\n",
       "      <td>10.658</td>\n",
       "      <td>-61.532</td>\n",
       "      <td>10.659</td>\n",
       "      <td>-61.53</td>\n",
       "      <td>POINT(-61.53142 10.65856)</td>\n",
       "      <td>10.659</td>\n",
       "      <td>-61.531</td>\n",
       "      <td></td>\n",
       "      <td></td>\n",
       "      <td></td>\n",
       "      <td></td>\n",
       "      <td></td>\n",
       "      <td>0.058</td>\n",
       "      <td>7</td>\n",
       "      <td>2020-10-02</td>\n",
       "      <td>5.1</td>\n",
       "      <td>None</td>\n",
       "    </tr>\n",
       "    <tr>\n",
       "      <th>2</th>\n",
       "      <td>6px5wjb</td>\n",
       "      <td>POLYGON((-79.892578125 -2.16567993164062, -79....</td>\n",
       "      <td>-2.166</td>\n",
       "      <td>-79.893</td>\n",
       "      <td>-2.164</td>\n",
       "      <td>-79.891</td>\n",
       "      <td>POINT(-79.89216 -2.16474)</td>\n",
       "      <td>-2.165</td>\n",
       "      <td>-79.892</td>\n",
       "      <td></td>\n",
       "      <td></td>\n",
       "      <td></td>\n",
       "      <td></td>\n",
       "      <td></td>\n",
       "      <td>0.006</td>\n",
       "      <td>3</td>\n",
       "      <td>2020-10-02</td>\n",
       "      <td>5.1</td>\n",
       "      <td>None</td>\n",
       "    </tr>\n",
       "    <tr>\n",
       "      <th>3</th>\n",
       "      <td>c28qvsf</td>\n",
       "      <td>POLYGON((-123.153991699219 49.0251159667969, -...</td>\n",
       "      <td>49.025</td>\n",
       "      <td>-123.154</td>\n",
       "      <td>49.026</td>\n",
       "      <td>-123.153</td>\n",
       "      <td>POINT(-123.15385 49.02591)</td>\n",
       "      <td>49.026</td>\n",
       "      <td>-123.154</td>\n",
       "      <td></td>\n",
       "      <td></td>\n",
       "      <td></td>\n",
       "      <td></td>\n",
       "      <td></td>\n",
       "      <td>0.025</td>\n",
       "      <td>4</td>\n",
       "      <td>2020-10-02</td>\n",
       "      <td>5.1</td>\n",
       "      <td>None</td>\n",
       "    </tr>\n",
       "    <tr>\n",
       "      <th>4</th>\n",
       "      <td>6px5y0k</td>\n",
       "      <td>POLYGON((-79.8870849609375 -2.15194702148438, ...</td>\n",
       "      <td>-2.152</td>\n",
       "      <td>-79.887</td>\n",
       "      <td>-2.151</td>\n",
       "      <td>-79.886</td>\n",
       "      <td>POINT(-79.88607 -2.15113)</td>\n",
       "      <td>-2.151</td>\n",
       "      <td>-79.886</td>\n",
       "      <td></td>\n",
       "      <td></td>\n",
       "      <td></td>\n",
       "      <td></td>\n",
       "      <td></td>\n",
       "      <td>0.046</td>\n",
       "      <td>3</td>\n",
       "      <td>2020-10-02</td>\n",
       "      <td>5.1</td>\n",
       "      <td>None</td>\n",
       "    </tr>\n",
       "  </tbody>\n",
       "</table>\n",
       "</div>"
      ],
      "text/plain": [
       "   Geohash                                      GeohashBounds Latitude_SW  \\\n",
       "0  c28qvs9  POLYGON((-123.155364990234 49.0237426757812, -...      49.024   \n",
       "1  d9uhxu6  POLYGON((-61.5316772460938 10.6581115722656, -...      10.658   \n",
       "2  6px5wjb  POLYGON((-79.892578125 -2.16567993164062, -79....      -2.166   \n",
       "3  c28qvsf  POLYGON((-123.153991699219 49.0251159667969, -...      49.025   \n",
       "4  6px5y0k  POLYGON((-79.8870849609375 -2.15194702148438, ...      -2.152   \n",
       "\n",
       "  Longitude_SW Latitude_NE Longitude_NE                    Location Latitude  \\\n",
       "0     -123.155      49.025     -123.154  POINT(-123.15458 49.02429)   49.024   \n",
       "1      -61.532      10.659       -61.53   POINT(-61.53142 10.65856)   10.659   \n",
       "2      -79.893      -2.164      -79.891   POINT(-79.89216 -2.16474)   -2.165   \n",
       "3     -123.154      49.026     -123.153  POINT(-123.15385 49.02591)   49.026   \n",
       "4      -79.887      -2.151      -79.886   POINT(-79.88607 -2.15113)   -2.151   \n",
       "\n",
       "  Longitude City County State Country ISO_3166_2 SeverityScore IncidentsTotal  \\\n",
       "0  -123.155                                              0.009              3   \n",
       "1   -61.531                                              0.058              7   \n",
       "2   -79.892                                              0.006              3   \n",
       "3  -123.154                                              0.025              4   \n",
       "4   -79.886                                              0.046              3   \n",
       "\n",
       "   UpdateDate Version geometry  \n",
       "0  2020-10-02     5.1     None  \n",
       "1  2020-10-02     5.1     None  \n",
       "2  2020-10-02     5.1     None  \n",
       "3  2020-10-02     5.1     None  \n",
       "4  2020-10-02     5.1     None  "
      ]
     },
     "execution_count": 4,
     "metadata": {},
     "output_type": "execute_result"
    }
   ],
   "source": [
    "wrecks_df.head()"
   ]
  },
  {
   "cell_type": "code",
   "execution_count": 5,
   "id": "5f0b6673",
   "metadata": {},
   "outputs": [
    {
     "name": "stdout",
     "output_type": "stream",
     "text": [
      "<class 'geopandas.geodataframe.GeoDataFrame'>\n",
      "RangeIndex: 10939 entries, 0 to 10938\n",
      "Data columns (total 19 columns):\n",
      " #   Column          Non-Null Count  Dtype   \n",
      "---  ------          --------------  -----   \n",
      " 0   Geohash         10939 non-null  object  \n",
      " 1   GeohashBounds   10939 non-null  object  \n",
      " 2   Latitude_SW     10939 non-null  object  \n",
      " 3   Longitude_SW    10939 non-null  object  \n",
      " 4   Latitude_NE     10939 non-null  object  \n",
      " 5   Longitude_NE    10939 non-null  object  \n",
      " 6   Location        10939 non-null  object  \n",
      " 7   Latitude        10939 non-null  object  \n",
      " 8   Longitude       10939 non-null  object  \n",
      " 9   City            10939 non-null  object  \n",
      " 10  County          10939 non-null  object  \n",
      " 11  State           10939 non-null  object  \n",
      " 12  Country         10939 non-null  object  \n",
      " 13  ISO_3166_2      10939 non-null  object  \n",
      " 14  SeverityScore   10939 non-null  object  \n",
      " 15  IncidentsTotal  10939 non-null  object  \n",
      " 16  UpdateDate      10939 non-null  object  \n",
      " 17  Version         10939 non-null  object  \n",
      " 18  geometry        0 non-null      geometry\n",
      "dtypes: geometry(1), object(18)\n",
      "memory usage: 1.6+ MB\n"
     ]
    }
   ],
   "source": [
    "wrecks_df.info()"
   ]
  },
  {
   "cell_type": "code",
   "execution_count": 6,
   "id": "6ffff1c8",
   "metadata": {},
   "outputs": [],
   "source": [
    "wrecks_df.drop(['Geohash', 'GeohashBounds','Latitude_SW', 'Longitude_SW', 'Latitude_NE', 'Longitude_NE', 'City', 'County', 'State', 'ISO_3166_2', 'UpdateDate', 'Version'], axis=1, inplace=True)"
   ]
  },
  {
   "cell_type": "code",
   "execution_count": 7,
   "id": "4a6cee1a",
   "metadata": {},
   "outputs": [
    {
     "data": {
      "text/html": [
       "<div>\n",
       "<style scoped>\n",
       "    .dataframe tbody tr th:only-of-type {\n",
       "        vertical-align: middle;\n",
       "    }\n",
       "\n",
       "    .dataframe tbody tr th {\n",
       "        vertical-align: top;\n",
       "    }\n",
       "\n",
       "    .dataframe thead th {\n",
       "        text-align: right;\n",
       "    }\n",
       "</style>\n",
       "<table border=\"1\" class=\"dataframe\">\n",
       "  <thead>\n",
       "    <tr style=\"text-align: right;\">\n",
       "      <th></th>\n",
       "      <th>Location</th>\n",
       "      <th>Latitude</th>\n",
       "      <th>Longitude</th>\n",
       "      <th>Country</th>\n",
       "      <th>SeverityScore</th>\n",
       "      <th>IncidentsTotal</th>\n",
       "      <th>geometry</th>\n",
       "    </tr>\n",
       "  </thead>\n",
       "  <tbody>\n",
       "    <tr>\n",
       "      <th>0</th>\n",
       "      <td>POINT(-123.15458 49.02429)</td>\n",
       "      <td>49.024</td>\n",
       "      <td>-123.155</td>\n",
       "      <td></td>\n",
       "      <td>0.009</td>\n",
       "      <td>3</td>\n",
       "      <td>None</td>\n",
       "    </tr>\n",
       "    <tr>\n",
       "      <th>1</th>\n",
       "      <td>POINT(-61.53142 10.65856)</td>\n",
       "      <td>10.659</td>\n",
       "      <td>-61.531</td>\n",
       "      <td></td>\n",
       "      <td>0.058</td>\n",
       "      <td>7</td>\n",
       "      <td>None</td>\n",
       "    </tr>\n",
       "    <tr>\n",
       "      <th>2</th>\n",
       "      <td>POINT(-79.89216 -2.16474)</td>\n",
       "      <td>-2.165</td>\n",
       "      <td>-79.892</td>\n",
       "      <td></td>\n",
       "      <td>0.006</td>\n",
       "      <td>3</td>\n",
       "      <td>None</td>\n",
       "    </tr>\n",
       "    <tr>\n",
       "      <th>3</th>\n",
       "      <td>POINT(-123.15385 49.02591)</td>\n",
       "      <td>49.026</td>\n",
       "      <td>-123.154</td>\n",
       "      <td></td>\n",
       "      <td>0.025</td>\n",
       "      <td>4</td>\n",
       "      <td>None</td>\n",
       "    </tr>\n",
       "    <tr>\n",
       "      <th>4</th>\n",
       "      <td>POINT(-79.88607 -2.15113)</td>\n",
       "      <td>-2.151</td>\n",
       "      <td>-79.886</td>\n",
       "      <td></td>\n",
       "      <td>0.046</td>\n",
       "      <td>3</td>\n",
       "      <td>None</td>\n",
       "    </tr>\n",
       "  </tbody>\n",
       "</table>\n",
       "</div>"
      ],
      "text/plain": [
       "                     Location Latitude Longitude Country SeverityScore  \\\n",
       "0  POINT(-123.15458 49.02429)   49.024  -123.155                 0.009   \n",
       "1   POINT(-61.53142 10.65856)   10.659   -61.531                 0.058   \n",
       "2   POINT(-79.89216 -2.16474)   -2.165   -79.892                 0.006   \n",
       "3  POINT(-123.15385 49.02591)   49.026  -123.154                 0.025   \n",
       "4   POINT(-79.88607 -2.15113)   -2.151   -79.886                 0.046   \n",
       "\n",
       "  IncidentsTotal geometry  \n",
       "0              3     None  \n",
       "1              7     None  \n",
       "2              3     None  \n",
       "3              4     None  \n",
       "4              3     None  "
      ]
     },
     "execution_count": 7,
     "metadata": {},
     "output_type": "execute_result"
    }
   ],
   "source": [
    "wrecks_df.head()"
   ]
  },
  {
   "cell_type": "code",
   "execution_count": 8,
   "id": "ce65918e",
   "metadata": {},
   "outputs": [
    {
     "data": {
      "text/plain": [
       "count     10939\n",
       "unique      188\n",
       "top           3\n",
       "freq       3298\n",
       "Name: IncidentsTotal, dtype: object"
      ]
     },
     "execution_count": 8,
     "metadata": {},
     "output_type": "execute_result"
    }
   ],
   "source": [
    "wrecks_df[\"IncidentsTotal\"].describe()"
   ]
  },
  {
   "cell_type": "code",
   "execution_count": 9,
   "id": "aa1048f8",
   "metadata": {},
   "outputs": [
    {
     "data": {
      "text/plain": [
       "False"
      ]
     },
     "execution_count": 9,
     "metadata": {},
     "output_type": "execute_result"
    }
   ],
   "source": [
    "# check if dataframe has any null values in field objects\n",
    "pd.isnull(object)"
   ]
  },
  {
   "cell_type": "code",
   "execution_count": 10,
   "id": "465767a2",
   "metadata": {},
   "outputs": [],
   "source": [
    "# convert totals of incidents from object to int type\n",
    "wrecks_df[\"IncidentsTotal\"] =pd.to_numeric(wrecks_df[\"IncidentsTotal\"], errors='coerce')"
   ]
  },
  {
   "cell_type": "code",
   "execution_count": 11,
   "id": "d676d2fc",
   "metadata": {},
   "outputs": [],
   "source": [
    "# convert the severity scores from object to int type \n",
    "wrecks_df[\"SeverityScore\"] =  pd.to_numeric(wrecks_df[\"SeverityScore\"], errors='coerce')"
   ]
  },
  {
   "cell_type": "code",
   "execution_count": 12,
   "id": "e778c97b",
   "metadata": {},
   "outputs": [
    {
     "data": {
      "text/plain": [
       "geopandas.geodataframe.GeoDataFrame"
      ]
     },
     "execution_count": 12,
     "metadata": {},
     "output_type": "execute_result"
    }
   ],
   "source": [
    "# make sure the dataframe is still a dataframe and not a series\n",
    "type(wrecks_df)"
   ]
  },
  {
   "cell_type": "code",
   "execution_count": 13,
   "id": "95f26d26",
   "metadata": {},
   "outputs": [
    {
     "name": "stdout",
     "output_type": "stream",
     "text": [
      "<class 'geopandas.geodataframe.GeoDataFrame'>\n",
      "RangeIndex: 10939 entries, 0 to 10938\n",
      "Data columns (total 7 columns):\n",
      " #   Column          Non-Null Count  Dtype   \n",
      "---  ------          --------------  -----   \n",
      " 0   Location        10939 non-null  object  \n",
      " 1   Latitude        10939 non-null  object  \n",
      " 2   Longitude       10939 non-null  object  \n",
      " 3   Country         10939 non-null  object  \n",
      " 4   SeverityScore   10939 non-null  float64 \n",
      " 5   IncidentsTotal  10939 non-null  int64   \n",
      " 6   geometry        0 non-null      geometry\n",
      "dtypes: float64(1), geometry(1), int64(1), object(4)\n",
      "memory usage: 598.4+ KB\n"
     ]
    }
   ],
   "source": [
    "wrecks_df.info()"
   ]
  },
  {
   "cell_type": "code",
   "execution_count": 14,
   "id": "918cebd4",
   "metadata": {},
   "outputs": [
    {
     "data": {
      "text/plain": [
       "Mexico                                                        0.582412\n",
       "Canada                                                        0.176524\n",
       "United States of America (the)                                0.150471\n",
       "Trinidad and Tobago                                           0.064997\n",
       "United Kingdom of Great Britain and Northern Ireland (the)    0.006765\n",
       "South Africa                                                  0.005211\n",
       "Spain                                                         0.005028\n",
       "Ecuador                                                       0.004479\n",
       "Chile                                                         0.001737\n",
       "                                                              0.000914\n",
       "Australia                                                     0.000548\n",
       "United Kingdom                                                0.000274\n",
       "Singapore                                                     0.000274\n",
       "Colombia                                                      0.000183\n",
       "Saint Lucia                                                   0.000091\n",
       "Zambia                                                        0.000091\n",
       "Name: Country, dtype: float64"
      ]
     },
     "execution_count": 14,
     "metadata": {},
     "output_type": "execute_result"
    }
   ],
   "source": [
    "# what is the percentage of the dataset by each country?\n",
    "wrecks_df.Country.value_counts(normalize=True)"
   ]
  },
  {
   "cell_type": "code",
   "execution_count": 20,
   "id": "eba55782",
   "metadata": {},
   "outputs": [],
   "source": [
    "# create df of mexican collisons\n",
    "mexico = wrecks_df[wrecks_df[\"Country\"] == 'Mexico']\n",
    "# create df of canadian collisions\n",
    "canada = wrecks_df[wrecks_df[\"Country\"] == 'Canada']\n",
    "#create df of us collisions\n",
    "usa = wrecks_df[wrecks_df[\"Country\"] == 'United States of America (the)']\n",
    "# create df of all collisions in north america\n",
    "north_america = wrecks_df[wrecks_df['Country'].isin([\"Mexico\", 'Canada', 'United States of America (the)'])]"
   ]
  },
  {
   "cell_type": "code",
   "execution_count": 23,
   "id": "6848e89f",
   "metadata": {},
   "outputs": [],
   "source": [
    "# write north american country collisions to csv files\n",
    "mexico.to_file('../clean_data/collisions_mexico.csv', driver='CSV')\n",
    "canada.to_file('../clean_data/collisions_canada.csv', driver='CSV')\n",
    "usa.to_file('../clean_data/collisions_us.csv', driver='CSV')\n",
    "north_america.to_file('../clean_data/collisions_all.csv', driver='CSV')"
   ]
  },
  {
   "cell_type": "code",
   "execution_count": null,
   "id": "d20df2ce",
   "metadata": {},
   "outputs": [],
   "source": []
  }
 ],
 "metadata": {
  "kernelspec": {
   "display_name": "Python 3 (ipykernel)",
   "language": "python",
   "name": "python3"
  },
  "language_info": {
   "codemirror_mode": {
    "name": "ipython",
    "version": 3
   },
   "file_extension": ".py",
   "mimetype": "text/x-python",
   "name": "python",
   "nbconvert_exporter": "python",
   "pygments_lexer": "ipython3",
   "version": "3.9.7"
  }
 },
 "nbformat": 4,
 "nbformat_minor": 5
}
